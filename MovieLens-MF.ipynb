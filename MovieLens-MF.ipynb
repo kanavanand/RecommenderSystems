{
 "cells": [
  {
   "cell_type": "code",
   "execution_count": 14,
   "id": "8f192391",
   "metadata": {},
   "outputs": [
    {
     "name": "stdout",
     "output_type": "stream",
     "text": [
      "Packages imported\n"
     ]
    }
   ],
   "source": [
    "import numpy as np\n",
    "import pandas as pd\n",
    "from time import time\n",
    "\n",
    "from keras.models import Model\n",
    "from keras import backend as K\n",
    "from keras.models import Sequential\n",
    "from keras.layers import Dense , merge\n",
    "from keras.layers.merge import dot,add\n",
    "from keras.utils.vis_utils import model_to_dot\n",
    "from keras.callbacks import ReduceLROnPlateau\n",
    "from keras.optimizers import Adam,SGD,Adagrad,Adadelta,RMSprop\n",
    "from keras.layers import Dropout, Flatten,Activation,Input,Embedding\n",
    "print(\"Packages imported\")"
   ]
  },
  {
   "cell_type": "code",
   "execution_count": 15,
   "id": "658670f3",
   "metadata": {},
   "outputs": [
    {
     "name": "stdout",
     "output_type": "stream",
     "text": [
      "reading rating data...\n",
      "reading user data...\n",
      "data read in 5.817676782608032 seconds\n"
     ]
    }
   ],
   "source": [
    "print('reading rating data...')\n",
    "tic = time()\n",
    "data = np.loadtxt('./ml-1m/ratings.dat', skiprows=0,  delimiter='::').astype('int32')\n",
    "print(\"reading user data...\")\n",
    "datContent = [i.strip().split('::') for i in open(\"./ml-1m/users.dat\",encoding=\"ISO-8859-1\").readlines()]\n",
    "user_data = pd.DataFrame(datContent,columns=['userId','gender','occupation','age','zip'])\n",
    "print('data read in', time() - tic, 'seconds')"
   ]
  },
  {
   "cell_type": "code",
   "execution_count": 16,
   "id": "ce306c70",
   "metadata": {},
   "outputs": [
    {
     "data": {
      "text/html": [
       "<div>\n",
       "<style scoped>\n",
       "    .dataframe tbody tr th:only-of-type {\n",
       "        vertical-align: middle;\n",
       "    }\n",
       "\n",
       "    .dataframe tbody tr th {\n",
       "        vertical-align: top;\n",
       "    }\n",
       "\n",
       "    .dataframe thead th {\n",
       "        text-align: right;\n",
       "    }\n",
       "</style>\n",
       "<table border=\"1\" class=\"dataframe\">\n",
       "  <thead>\n",
       "    <tr style=\"text-align: right;\">\n",
       "      <th></th>\n",
       "      <th>userId</th>\n",
       "      <th>movieId</th>\n",
       "      <th>rating</th>\n",
       "      <th>timestampe</th>\n",
       "    </tr>\n",
       "  </thead>\n",
       "  <tbody>\n",
       "    <tr>\n",
       "      <th>0</th>\n",
       "      <td>1</td>\n",
       "      <td>1193</td>\n",
       "      <td>5</td>\n",
       "      <td>978300760</td>\n",
       "    </tr>\n",
       "    <tr>\n",
       "      <th>1</th>\n",
       "      <td>1</td>\n",
       "      <td>661</td>\n",
       "      <td>3</td>\n",
       "      <td>978302109</td>\n",
       "    </tr>\n",
       "    <tr>\n",
       "      <th>2</th>\n",
       "      <td>1</td>\n",
       "      <td>914</td>\n",
       "      <td>3</td>\n",
       "      <td>978301968</td>\n",
       "    </tr>\n",
       "    <tr>\n",
       "      <th>3</th>\n",
       "      <td>1</td>\n",
       "      <td>3408</td>\n",
       "      <td>4</td>\n",
       "      <td>978300275</td>\n",
       "    </tr>\n",
       "    <tr>\n",
       "      <th>4</th>\n",
       "      <td>1</td>\n",
       "      <td>2355</td>\n",
       "      <td>5</td>\n",
       "      <td>978824291</td>\n",
       "    </tr>\n",
       "  </tbody>\n",
       "</table>\n",
       "</div>"
      ],
      "text/plain": [
       "   userId  movieId  rating  timestampe\n",
       "0       1     1193       5   978300760\n",
       "1       1      661       3   978302109\n",
       "2       1      914       3   978301968\n",
       "3       1     3408       4   978300275\n",
       "4       1     2355       5   978824291"
      ]
     },
     "execution_count": 16,
     "metadata": {},
     "output_type": "execute_result"
    }
   ],
   "source": [
    "df =pd.DataFrame(data)\n",
    "df.columns=['userId','movieId','rating','timestampe']\n",
    "df.head()"
   ]
  },
  {
   "cell_type": "code",
   "execution_count": 18,
   "id": "7498f89c",
   "metadata": {},
   "outputs": [
    {
     "data": {
      "text/html": [
       "<div>\n",
       "<style scoped>\n",
       "    .dataframe tbody tr th:only-of-type {\n",
       "        vertical-align: middle;\n",
       "    }\n",
       "\n",
       "    .dataframe tbody tr th {\n",
       "        vertical-align: top;\n",
       "    }\n",
       "\n",
       "    .dataframe thead th {\n",
       "        text-align: right;\n",
       "    }\n",
       "</style>\n",
       "<table border=\"1\" class=\"dataframe\">\n",
       "  <thead>\n",
       "    <tr style=\"text-align: right;\">\n",
       "      <th></th>\n",
       "      <th>userId</th>\n",
       "      <th>movieId</th>\n",
       "      <th>rating</th>\n",
       "      <th>timestampe</th>\n",
       "      <th>gender_x</th>\n",
       "      <th>occupation_x</th>\n",
       "      <th>age_x</th>\n",
       "      <th>zip_x</th>\n",
       "      <th>gender_y</th>\n",
       "      <th>occupation_y</th>\n",
       "      <th>age_y</th>\n",
       "      <th>zip_y</th>\n",
       "    </tr>\n",
       "  </thead>\n",
       "  <tbody>\n",
       "    <tr>\n",
       "      <th>0</th>\n",
       "      <td>1</td>\n",
       "      <td>1193</td>\n",
       "      <td>5</td>\n",
       "      <td>978300760</td>\n",
       "      <td>F</td>\n",
       "      <td>1</td>\n",
       "      <td>10</td>\n",
       "      <td>48067</td>\n",
       "      <td>F</td>\n",
       "      <td>1</td>\n",
       "      <td>10</td>\n",
       "      <td>48067</td>\n",
       "    </tr>\n",
       "    <tr>\n",
       "      <th>1</th>\n",
       "      <td>1</td>\n",
       "      <td>661</td>\n",
       "      <td>3</td>\n",
       "      <td>978302109</td>\n",
       "      <td>F</td>\n",
       "      <td>1</td>\n",
       "      <td>10</td>\n",
       "      <td>48067</td>\n",
       "      <td>F</td>\n",
       "      <td>1</td>\n",
       "      <td>10</td>\n",
       "      <td>48067</td>\n",
       "    </tr>\n",
       "    <tr>\n",
       "      <th>2</th>\n",
       "      <td>1</td>\n",
       "      <td>914</td>\n",
       "      <td>3</td>\n",
       "      <td>978301968</td>\n",
       "      <td>F</td>\n",
       "      <td>1</td>\n",
       "      <td>10</td>\n",
       "      <td>48067</td>\n",
       "      <td>F</td>\n",
       "      <td>1</td>\n",
       "      <td>10</td>\n",
       "      <td>48067</td>\n",
       "    </tr>\n",
       "    <tr>\n",
       "      <th>3</th>\n",
       "      <td>1</td>\n",
       "      <td>3408</td>\n",
       "      <td>4</td>\n",
       "      <td>978300275</td>\n",
       "      <td>F</td>\n",
       "      <td>1</td>\n",
       "      <td>10</td>\n",
       "      <td>48067</td>\n",
       "      <td>F</td>\n",
       "      <td>1</td>\n",
       "      <td>10</td>\n",
       "      <td>48067</td>\n",
       "    </tr>\n",
       "    <tr>\n",
       "      <th>4</th>\n",
       "      <td>1</td>\n",
       "      <td>2355</td>\n",
       "      <td>5</td>\n",
       "      <td>978824291</td>\n",
       "      <td>F</td>\n",
       "      <td>1</td>\n",
       "      <td>10</td>\n",
       "      <td>48067</td>\n",
       "      <td>F</td>\n",
       "      <td>1</td>\n",
       "      <td>10</td>\n",
       "      <td>48067</td>\n",
       "    </tr>\n",
       "  </tbody>\n",
       "</table>\n",
       "</div>"
      ],
      "text/plain": [
       "   userId  movieId  rating  timestampe gender_x occupation_x age_x  zip_x  \\\n",
       "0       1     1193       5   978300760        F            1    10  48067   \n",
       "1       1      661       3   978302109        F            1    10  48067   \n",
       "2       1      914       3   978301968        F            1    10  48067   \n",
       "3       1     3408       4   978300275        F            1    10  48067   \n",
       "4       1     2355       5   978824291        F            1    10  48067   \n",
       "\n",
       "  gender_y occupation_y age_y  zip_y  \n",
       "0        F            1    10  48067  \n",
       "1        F            1    10  48067  \n",
       "2        F            1    10  48067  \n",
       "3        F            1    10  48067  \n",
       "4        F            1    10  48067  "
      ]
     },
     "execution_count": 18,
     "metadata": {},
     "output_type": "execute_result"
    }
   ],
   "source": [
    "user_data.userId=user_data.userId.astype(int)\n",
    "df = df.merge(user_data,on='userId',how='left')\n",
    "df.head()"
   ]
  },
  {
   "cell_type": "code",
   "execution_count": 19,
   "id": "ca0243cd",
   "metadata": {},
   "outputs": [],
   "source": [
    "users = df.userId.unique()\n",
    "movies = df.movieId.unique()\n",
    "\n",
    "userid2idx = {o:i for i,o in enumerate(users)}\n",
    "movieid2idx = {o:i for i,o in enumerate(movies)}\n",
    "\n",
    "\n",
    "df['userId'] = df['userId'].apply(lambda x: userid2idx[x])\n",
    "df['movieId'] = df['movieId'].apply(lambda x: movieid2idx[x])"
   ]
  },
  {
   "cell_type": "code",
   "execution_count": 21,
   "id": "09bad2f4",
   "metadata": {},
   "outputs": [
    {
     "name": "stdout",
     "output_type": "stream",
     "text": [
      "(800151, 12) (200058, 12)\n"
     ]
    }
   ],
   "source": [
    "split = np.random.rand(len(df)) < 0.8\n",
    "train = df[split]\n",
    "valid = df[~split]\n",
    "print(train.shape , valid.shape)"
   ]
  },
  {
   "cell_type": "code",
   "execution_count": 22,
   "id": "024fb7f3",
   "metadata": {},
   "outputs": [],
   "source": [
    "n_movies=len(df['movieId'].unique())\n",
    "n_users=len(df['userId'].unique())\n",
    "n_latent_factors=64  "
   ]
  },
  {
   "cell_type": "code",
   "execution_count": 33,
   "id": "61edd050",
   "metadata": {},
   "outputs": [],
   "source": [
    "user_input=Input(shape=(1,),name='user_input',dtype='int64')\n",
    "user_embedding=Embedding(n_users,n_latent_factors,name='user_embedding')(user_input)\n",
    "user_vec =Flatten(name='FlattenUsers')(user_embedding)"
   ]
  },
  {
   "cell_type": "code",
   "execution_count": 24,
   "id": "2124fa99",
   "metadata": {},
   "outputs": [],
   "source": [
    "movie_input=Input(shape=(1,),name='movie_input',dtype='int64')\n",
    "movie_embedding=Embedding(n_movies,n_latent_factors,name='movie_embedding')(movie_input)\n",
    "movie_vec=Flatten(name='FlattenMovies')(movie_embedding)\n"
   ]
  },
  {
   "cell_type": "code",
   "execution_count": 25,
   "id": "a4c8a6b8",
   "metadata": {},
   "outputs": [
    {
     "name": "stdout",
     "output_type": "stream",
     "text": [
      "Model: \"model\"\n",
      "__________________________________________________________________________________________________\n",
      "Layer (type)                    Output Shape         Param #     Connected to                     \n",
      "==================================================================================================\n",
      "user_input (InputLayer)         [(None, 1)]          0                                            \n",
      "__________________________________________________________________________________________________\n",
      "movie_input (InputLayer)        [(None, 1)]          0                                            \n",
      "__________________________________________________________________________________________________\n",
      "user_embedding (Embedding)      (None, 1, 64)        386560      user_input[0][0]                 \n",
      "__________________________________________________________________________________________________\n",
      "movie_embedding (Embedding)     (None, 1, 64)        237184      movie_input[0][0]                \n",
      "__________________________________________________________________________________________________\n",
      "FlattenUsers (Flatten)          (None, 64)           0           user_embedding[0][0]             \n",
      "__________________________________________________________________________________________________\n",
      "FlattenMovies (Flatten)         (None, 64)           0           movie_embedding[0][0]            \n",
      "__________________________________________________________________________________________________\n",
      "Simalarity-Dot-Product (Dot)    (None, 1)            0           FlattenUsers[0][0]               \n",
      "                                                                 FlattenMovies[0][0]              \n",
      "==================================================================================================\n",
      "Total params: 623,744\n",
      "Trainable params: 623,744\n",
      "Non-trainable params: 0\n",
      "__________________________________________________________________________________________________\n"
     ]
    }
   ],
   "source": [
    "sim_item_user=dot([user_vec,movie_vec],name='Simalarity-Dot-Product',axes=1)\n",
    "model =Model([user_input, movie_input],sim_item_user)\n",
    "model.summary()\n"
   ]
  },
  {
   "cell_type": "code",
   "execution_count": 27,
   "id": "62fe77ff",
   "metadata": {},
   "outputs": [
    {
     "name": "stdout",
     "output_type": "stream",
     "text": [
      "Epoch 1/10\n",
      "6252/6252 [==============================] - 20s 2ms/step - loss: 14.0496 - val_loss: 13.4732\n",
      "Epoch 2/10\n",
      "6252/6252 [==============================] - 15s 2ms/step - loss: 11.8031 - val_loss: 5.4501\n",
      "Epoch 3/10\n",
      "6252/6252 [==============================] - 16s 3ms/step - loss: 4.1131 - val_loss: 2.0747\n",
      "Epoch 4/10\n",
      "6252/6252 [==============================] - 16s 3ms/step - loss: 1.7806 - val_loss: 1.3006\n",
      "Epoch 5/10\n",
      "6252/6252 [==============================] - 16s 3ms/step - loss: 1.1902 - val_loss: 1.0417\n",
      "Epoch 6/10\n",
      "6252/6252 [==============================] - 16s 3ms/step - loss: 0.9847 - val_loss: 0.9362\n",
      "Epoch 7/10\n",
      "6252/6252 [==============================] - 16s 3ms/step - loss: 0.8986 - val_loss: 0.8887\n",
      "Epoch 8/10\n",
      "6252/6252 [==============================] - 16s 3ms/step - loss: 0.8572 - val_loss: 0.8654\n",
      "Epoch 9/10\n",
      "6252/6252 [==============================] - 16s 3ms/step - loss: 0.8390 - val_loss: 0.8523\n",
      "Epoch 10/10\n",
      "6252/6252 [==============================] - 17s 3ms/step - loss: 0.8271 - val_loss: 0.8446\n"
     ]
    }
   ],
   "source": [
    "model.compile(optimizer=Adam(lr=1e-4),loss='mse')\n",
    "train.shape\n",
    "batch_size=128\n",
    "epochs=10\n",
    "\n",
    "History = model.fit([train.userId,train.movieId,],train.rating, batch_size=batch_size,\n",
    "                              epochs =epochs, validation_data = ([valid.userId,valid.movieId],valid.rating),\n",
    "                              verbose = 1)"
   ]
  },
  {
   "cell_type": "code",
   "execution_count": 28,
   "id": "3acda82d",
   "metadata": {},
   "outputs": [
    {
     "data": {
      "text/plain": [
       "array([[4.6896791e+00],\n",
       "       [3.7299058e+00],\n",
       "       [4.3715343e+00],\n",
       "       ...,\n",
       "       [3.9169991e-01],\n",
       "       [3.9832401e-01],\n",
       "       [4.2947684e-03]], dtype=float32)"
      ]
     },
     "execution_count": 28,
     "metadata": {},
     "output_type": "execute_result"
    }
   ],
   "source": [
    "model.predict([pd.Series([0]*len(movieid2idx)),pd.Series(movieid2idx.values())])"
   ]
  },
  {
   "cell_type": "code",
   "execution_count": null,
   "id": "31c873d2",
   "metadata": {},
   "outputs": [],
   "source": []
  }
 ],
 "metadata": {
  "kernelspec": {
   "display_name": "Python 3",
   "language": "python",
   "name": "python3"
  },
  "language_info": {
   "codemirror_mode": {
    "name": "ipython",
    "version": 3
   },
   "file_extension": ".py",
   "mimetype": "text/x-python",
   "name": "python",
   "nbconvert_exporter": "python",
   "pygments_lexer": "ipython3",
   "version": "3.8.8"
  }
 },
 "nbformat": 4,
 "nbformat_minor": 5
}
