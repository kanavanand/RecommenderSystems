{
 "cells": [
  {
   "cell_type": "code",
   "execution_count": 1,
   "id": "01021efb",
   "metadata": {},
   "outputs": [
    {
     "name": "stdout",
     "output_type": "stream",
     "text": [
      "Packages imported\n"
     ]
    }
   ],
   "source": [
    "import numpy as np\n",
    "import pandas as pd\n",
    "from time import time\n",
    "\n",
    "from keras.models import Model\n",
    "from keras import backend as K\n",
    "from keras.models import Sequential\n",
    "from keras.layers import Dense , merge\n",
    "from keras.layers.merge import dot,add\n",
    "from keras.utils.vis_utils import model_to_dot\n",
    "from keras.callbacks import ReduceLROnPlateau\n",
    "from keras.optimizers import Adam,SGD,Adagrad,Adadelta,RMSprop\n",
    "from keras.layers import Dropout, Flatten,Activation,Input,Embedding\n",
    "print(\"Packages imported\")"
   ]
  },
  {
   "cell_type": "code",
   "execution_count": 2,
   "id": "0788a70f",
   "metadata": {},
   "outputs": [
    {
     "name": "stdout",
     "output_type": "stream",
     "text": [
      "reading rating data...\n",
      "reading user data...\n",
      "data read in 5.810754776000977 seconds\n"
     ]
    }
   ],
   "source": [
    "print('reading rating data...')\n",
    "tic = time()\n",
    "data = np.loadtxt('./ml-1m/ratings.dat', skiprows=0,  delimiter='::').astype('int32')\n",
    "print(\"reading user data...\")\n",
    "datContent = [i.strip().split('::') for i in open(\"./ml-1m/users.dat\",encoding=\"ISO-8859-1\").readlines()]\n",
    "user_data = pd.DataFrame(datContent,columns=['userId','gender','occupation','age','zip'])\n",
    "print('data read in', time() - tic, 'seconds')"
   ]
  },
  {
   "cell_type": "code",
   "execution_count": 3,
   "id": "2cc104af",
   "metadata": {},
   "outputs": [
    {
     "data": {
      "text/html": [
       "<div>\n",
       "<style scoped>\n",
       "    .dataframe tbody tr th:only-of-type {\n",
       "        vertical-align: middle;\n",
       "    }\n",
       "\n",
       "    .dataframe tbody tr th {\n",
       "        vertical-align: top;\n",
       "    }\n",
       "\n",
       "    .dataframe thead th {\n",
       "        text-align: right;\n",
       "    }\n",
       "</style>\n",
       "<table border=\"1\" class=\"dataframe\">\n",
       "  <thead>\n",
       "    <tr style=\"text-align: right;\">\n",
       "      <th></th>\n",
       "      <th>userId</th>\n",
       "      <th>movieId</th>\n",
       "      <th>rating</th>\n",
       "      <th>timestampe</th>\n",
       "    </tr>\n",
       "  </thead>\n",
       "  <tbody>\n",
       "    <tr>\n",
       "      <th>0</th>\n",
       "      <td>1</td>\n",
       "      <td>1193</td>\n",
       "      <td>5</td>\n",
       "      <td>978300760</td>\n",
       "    </tr>\n",
       "    <tr>\n",
       "      <th>1</th>\n",
       "      <td>1</td>\n",
       "      <td>661</td>\n",
       "      <td>3</td>\n",
       "      <td>978302109</td>\n",
       "    </tr>\n",
       "    <tr>\n",
       "      <th>2</th>\n",
       "      <td>1</td>\n",
       "      <td>914</td>\n",
       "      <td>3</td>\n",
       "      <td>978301968</td>\n",
       "    </tr>\n",
       "    <tr>\n",
       "      <th>3</th>\n",
       "      <td>1</td>\n",
       "      <td>3408</td>\n",
       "      <td>4</td>\n",
       "      <td>978300275</td>\n",
       "    </tr>\n",
       "    <tr>\n",
       "      <th>4</th>\n",
       "      <td>1</td>\n",
       "      <td>2355</td>\n",
       "      <td>5</td>\n",
       "      <td>978824291</td>\n",
       "    </tr>\n",
       "  </tbody>\n",
       "</table>\n",
       "</div>"
      ],
      "text/plain": [
       "   userId  movieId  rating  timestampe\n",
       "0       1     1193       5   978300760\n",
       "1       1      661       3   978302109\n",
       "2       1      914       3   978301968\n",
       "3       1     3408       4   978300275\n",
       "4       1     2355       5   978824291"
      ]
     },
     "execution_count": 3,
     "metadata": {},
     "output_type": "execute_result"
    }
   ],
   "source": [
    "df =pd.DataFrame(data)\n",
    "df.columns=['userId','movieId','rating','timestampe']\n",
    "df.head()"
   ]
  },
  {
   "cell_type": "code",
   "execution_count": 4,
   "id": "de837862",
   "metadata": {},
   "outputs": [
    {
     "data": {
      "text/html": [
       "<div>\n",
       "<style scoped>\n",
       "    .dataframe tbody tr th:only-of-type {\n",
       "        vertical-align: middle;\n",
       "    }\n",
       "\n",
       "    .dataframe tbody tr th {\n",
       "        vertical-align: top;\n",
       "    }\n",
       "\n",
       "    .dataframe thead th {\n",
       "        text-align: right;\n",
       "    }\n",
       "</style>\n",
       "<table border=\"1\" class=\"dataframe\">\n",
       "  <thead>\n",
       "    <tr style=\"text-align: right;\">\n",
       "      <th></th>\n",
       "      <th>userId</th>\n",
       "      <th>movieId</th>\n",
       "      <th>rating</th>\n",
       "      <th>timestampe</th>\n",
       "      <th>gender</th>\n",
       "      <th>occupation</th>\n",
       "      <th>age</th>\n",
       "      <th>zip</th>\n",
       "    </tr>\n",
       "  </thead>\n",
       "  <tbody>\n",
       "    <tr>\n",
       "      <th>0</th>\n",
       "      <td>1</td>\n",
       "      <td>1193</td>\n",
       "      <td>5</td>\n",
       "      <td>978300760</td>\n",
       "      <td>F</td>\n",
       "      <td>1</td>\n",
       "      <td>10</td>\n",
       "      <td>48067</td>\n",
       "    </tr>\n",
       "    <tr>\n",
       "      <th>1</th>\n",
       "      <td>1</td>\n",
       "      <td>661</td>\n",
       "      <td>3</td>\n",
       "      <td>978302109</td>\n",
       "      <td>F</td>\n",
       "      <td>1</td>\n",
       "      <td>10</td>\n",
       "      <td>48067</td>\n",
       "    </tr>\n",
       "    <tr>\n",
       "      <th>2</th>\n",
       "      <td>1</td>\n",
       "      <td>914</td>\n",
       "      <td>3</td>\n",
       "      <td>978301968</td>\n",
       "      <td>F</td>\n",
       "      <td>1</td>\n",
       "      <td>10</td>\n",
       "      <td>48067</td>\n",
       "    </tr>\n",
       "    <tr>\n",
       "      <th>3</th>\n",
       "      <td>1</td>\n",
       "      <td>3408</td>\n",
       "      <td>4</td>\n",
       "      <td>978300275</td>\n",
       "      <td>F</td>\n",
       "      <td>1</td>\n",
       "      <td>10</td>\n",
       "      <td>48067</td>\n",
       "    </tr>\n",
       "    <tr>\n",
       "      <th>4</th>\n",
       "      <td>1</td>\n",
       "      <td>2355</td>\n",
       "      <td>5</td>\n",
       "      <td>978824291</td>\n",
       "      <td>F</td>\n",
       "      <td>1</td>\n",
       "      <td>10</td>\n",
       "      <td>48067</td>\n",
       "    </tr>\n",
       "  </tbody>\n",
       "</table>\n",
       "</div>"
      ],
      "text/plain": [
       "   userId  movieId  rating  timestampe gender occupation age    zip\n",
       "0       1     1193       5   978300760      F          1  10  48067\n",
       "1       1      661       3   978302109      F          1  10  48067\n",
       "2       1      914       3   978301968      F          1  10  48067\n",
       "3       1     3408       4   978300275      F          1  10  48067\n",
       "4       1     2355       5   978824291      F          1  10  48067"
      ]
     },
     "execution_count": 4,
     "metadata": {},
     "output_type": "execute_result"
    }
   ],
   "source": [
    "user_data.userId=user_data.userId.astype(int)\n",
    "df = df.merge(user_data,on='userId',how='left')\n",
    "df.head()"
   ]
  },
  {
   "cell_type": "code",
   "execution_count": 5,
   "id": "5aaa8fc4",
   "metadata": {},
   "outputs": [
    {
     "data": {
      "text/plain": [
       "4     131032\n",
       "0     130499\n",
       "7     105425\n",
       "1      85351\n",
       "17     72816\n",
       "20     60397\n",
       "12     57214\n",
       "2      50068\n",
       "14     49109\n",
       "16     46021\n",
       "6      37205\n",
       "3      31623\n",
       "10     23290\n",
       "15     22951\n",
       "5      21850\n",
       "11     20563\n",
       "19     14904\n",
       "13     13754\n",
       "18     12086\n",
       "9      11345\n",
       "8       2706\n",
       "Name: age, dtype: int64"
      ]
     },
     "execution_count": 5,
     "metadata": {},
     "output_type": "execute_result"
    }
   ],
   "source": [
    "df.age.value_counts()"
   ]
  },
  {
   "cell_type": "code",
   "execution_count": 6,
   "id": "2205d299",
   "metadata": {},
   "outputs": [],
   "source": [
    "users = df.userId.unique()\n",
    "movies = df.movieId.unique()\n",
    "occupations = df.occupation.unique()\n",
    "gender = df.gender.unique()\n",
    "age = df.age.unique()\n",
    "zip_ = df.zip.unique()\n",
    "\n",
    "\n",
    "userid2idx = {o:i for i,o in enumerate(users)}\n",
    "movieid2idx = {o:i for i,o in enumerate(movies)}\n",
    "occupationid2idx = {o:i for i,o in enumerate(occupations)}\n",
    "\n",
    "zipid2idx = {o:i for i,o in enumerate(zip_)}\n",
    "genderid2idx = {o:i for i,o in enumerate(gender)}\n",
    "ageid2idx = {o:i for i,o in enumerate(age)}\n"
   ]
  },
  {
   "cell_type": "code",
   "execution_count": 7,
   "id": "242b4221",
   "metadata": {},
   "outputs": [],
   "source": [
    "df['userId'] = df['userId'].apply(lambda x: userid2idx[x])\n",
    "df['movieId'] = df['movieId'].apply(lambda x: movieid2idx[x])\n",
    "df['occupation'] = df['occupation'].apply(lambda x: occupationid2idx[x])\n",
    "\n",
    "df['zip'] = df['zip'].apply(lambda x: zipid2idx[x])\n",
    "df['gender'] = df['gender'].apply(lambda x: genderid2idx[x])\n",
    "df['age'] = df['age'].apply(lambda x: ageid2idx[x])\n",
    "\n",
    "\n"
   ]
  },
  {
   "cell_type": "code",
   "execution_count": 8,
   "id": "1821402a",
   "metadata": {},
   "outputs": [
    {
     "data": {
      "text/html": [
       "<div>\n",
       "<style scoped>\n",
       "    .dataframe tbody tr th:only-of-type {\n",
       "        vertical-align: middle;\n",
       "    }\n",
       "\n",
       "    .dataframe tbody tr th {\n",
       "        vertical-align: top;\n",
       "    }\n",
       "\n",
       "    .dataframe thead th {\n",
       "        text-align: right;\n",
       "    }\n",
       "</style>\n",
       "<table border=\"1\" class=\"dataframe\">\n",
       "  <thead>\n",
       "    <tr style=\"text-align: right;\">\n",
       "      <th></th>\n",
       "      <th>userId</th>\n",
       "      <th>movieId</th>\n",
       "      <th>rating</th>\n",
       "      <th>timestampe</th>\n",
       "      <th>gender</th>\n",
       "      <th>occupation</th>\n",
       "      <th>age</th>\n",
       "      <th>zip</th>\n",
       "    </tr>\n",
       "  </thead>\n",
       "  <tbody>\n",
       "    <tr>\n",
       "      <th>0</th>\n",
       "      <td>0</td>\n",
       "      <td>0</td>\n",
       "      <td>5</td>\n",
       "      <td>978300760</td>\n",
       "      <td>0</td>\n",
       "      <td>0</td>\n",
       "      <td>0</td>\n",
       "      <td>0</td>\n",
       "    </tr>\n",
       "    <tr>\n",
       "      <th>1</th>\n",
       "      <td>0</td>\n",
       "      <td>1</td>\n",
       "      <td>3</td>\n",
       "      <td>978302109</td>\n",
       "      <td>0</td>\n",
       "      <td>0</td>\n",
       "      <td>0</td>\n",
       "      <td>0</td>\n",
       "    </tr>\n",
       "    <tr>\n",
       "      <th>2</th>\n",
       "      <td>0</td>\n",
       "      <td>2</td>\n",
       "      <td>3</td>\n",
       "      <td>978301968</td>\n",
       "      <td>0</td>\n",
       "      <td>0</td>\n",
       "      <td>0</td>\n",
       "      <td>0</td>\n",
       "    </tr>\n",
       "    <tr>\n",
       "      <th>3</th>\n",
       "      <td>0</td>\n",
       "      <td>3</td>\n",
       "      <td>4</td>\n",
       "      <td>978300275</td>\n",
       "      <td>0</td>\n",
       "      <td>0</td>\n",
       "      <td>0</td>\n",
       "      <td>0</td>\n",
       "    </tr>\n",
       "    <tr>\n",
       "      <th>4</th>\n",
       "      <td>0</td>\n",
       "      <td>4</td>\n",
       "      <td>5</td>\n",
       "      <td>978824291</td>\n",
       "      <td>0</td>\n",
       "      <td>0</td>\n",
       "      <td>0</td>\n",
       "      <td>0</td>\n",
       "    </tr>\n",
       "  </tbody>\n",
       "</table>\n",
       "</div>"
      ],
      "text/plain": [
       "   userId  movieId  rating  timestampe  gender  occupation  age  zip\n",
       "0       0        0       5   978300760       0           0    0    0\n",
       "1       0        1       3   978302109       0           0    0    0\n",
       "2       0        2       3   978301968       0           0    0    0\n",
       "3       0        3       4   978300275       0           0    0    0\n",
       "4       0        4       5   978824291       0           0    0    0"
      ]
     },
     "execution_count": 8,
     "metadata": {},
     "output_type": "execute_result"
    }
   ],
   "source": [
    "df.head()"
   ]
  },
  {
   "cell_type": "code",
   "execution_count": 9,
   "id": "2bbbaedd",
   "metadata": {},
   "outputs": [
    {
     "name": "stdout",
     "output_type": "stream",
     "text": [
      "(801104, 8) (199105, 8)\n"
     ]
    }
   ],
   "source": [
    "split = np.random.rand(len(df)) < 0.8\n",
    "train = df[split]\n",
    "valid = df[~split]\n",
    "print(train.shape , valid.shape)"
   ]
  },
  {
   "cell_type": "code",
   "execution_count": 10,
   "id": "255c1d96",
   "metadata": {},
   "outputs": [],
   "source": [
    "n_movies=len(df['movieId'].unique())\n",
    "n_users=len(df['userId'].unique())\n",
    "n_occu=len(df['occupation'].unique())\n",
    "\n",
    "n_gender=len(df['gender'].unique())\n",
    "n_zip=len(df['zip'].unique())\n",
    "n_age=len(df['age'].unique())\n",
    "\n",
    "n_latent_factors=64  "
   ]
  },
  {
   "cell_type": "code",
   "execution_count": 11,
   "id": "bc09f57d",
   "metadata": {},
   "outputs": [],
   "source": [
    "user_input=Input(shape=(1,),name='user_input',dtype='int64')\n",
    "user_embedding=Embedding(n_users,n_latent_factors,name='user_embedding')(user_input)\n",
    "user_vec =Flatten(name='FlattenUsers')(user_embedding)"
   ]
  },
  {
   "cell_type": "code",
   "execution_count": 12,
   "id": "459b6aee",
   "metadata": {},
   "outputs": [],
   "source": [
    "user_occu =Input(shape=(1,),name='user_occu',dtype='int64')\n",
    "occu_embedding=Embedding(n_occu,n_latent_factors,name='occu_embedding')(user_occu)\n",
    "occu_vec =Flatten(name='FlattenOccu')(occu_embedding)"
   ]
  },
  {
   "cell_type": "code",
   "execution_count": 13,
   "id": "3b2c552f",
   "metadata": {},
   "outputs": [],
   "source": [
    "movie_input=Input(shape=(1,),name='movie_input',dtype='int64')\n",
    "movie_embedding=Embedding(n_movies,n_latent_factors,name='movie_embedding')(movie_input)\n",
    "movie_vec=Flatten(name='FlattenMovies')(movie_embedding)\n"
   ]
  },
  {
   "cell_type": "code",
   "execution_count": 14,
   "id": "14be9f18",
   "metadata": {},
   "outputs": [],
   "source": [
    "gender_input=Input(shape=(1,),name='gender_input',dtype='int64')\n",
    "gender_embedding=Embedding(n_gender,n_latent_factors,name='gender_embedding')(gender_input)\n",
    "gender_vec=Flatten(name='FlattenGender')(gender_embedding)\n"
   ]
  },
  {
   "cell_type": "code",
   "execution_count": 15,
   "id": "0b7ebb30",
   "metadata": {},
   "outputs": [],
   "source": [
    "zip_input=Input(shape=(1,),name='zip_input',dtype='int64')\n",
    "zip_embedding=Embedding(n_zip ,n_latent_factors,name='zip_embedding')(zip_input)\n",
    "zip_vec=Flatten(name='FlattenZip')(zip_embedding)\n"
   ]
  },
  {
   "cell_type": "code",
   "execution_count": 16,
   "id": "17e49a01",
   "metadata": {},
   "outputs": [],
   "source": [
    "age_input=Input(shape=(1,),name='age_input',dtype='int64')\n",
    "age_embedding=Embedding(n_age ,n_latent_factors,name='age_embedding')(age_input)\n",
    "age_vec=Flatten(name='FlattenAge')(age_embedding)\n"
   ]
  },
  {
   "cell_type": "code",
   "execution_count": 17,
   "id": "be041ac5",
   "metadata": {
    "scrolled": false
   },
   "outputs": [
    {
     "name": "stdout",
     "output_type": "stream",
     "text": [
      "Model: \"model\"\n",
      "__________________________________________________________________________________________________\n",
      "Layer (type)                    Output Shape         Param #     Connected to                     \n",
      "==================================================================================================\n",
      "user_input (InputLayer)         [(None, 1)]          0                                            \n",
      "__________________________________________________________________________________________________\n",
      "movie_input (InputLayer)        [(None, 1)]          0                                            \n",
      "__________________________________________________________________________________________________\n",
      "user_occu (InputLayer)          [(None, 1)]          0                                            \n",
      "__________________________________________________________________________________________________\n",
      "gender_input (InputLayer)       [(None, 1)]          0                                            \n",
      "__________________________________________________________________________________________________\n",
      "age_input (InputLayer)          [(None, 1)]          0                                            \n",
      "__________________________________________________________________________________________________\n",
      "user_embedding (Embedding)      (None, 1, 64)        386560      user_input[0][0]                 \n",
      "__________________________________________________________________________________________________\n",
      "movie_embedding (Embedding)     (None, 1, 64)        237184      movie_input[0][0]                \n",
      "__________________________________________________________________________________________________\n",
      "occu_embedding (Embedding)      (None, 1, 64)        448         user_occu[0][0]                  \n",
      "__________________________________________________________________________________________________\n",
      "gender_embedding (Embedding)    (None, 1, 64)        128         gender_input[0][0]               \n",
      "__________________________________________________________________________________________________\n",
      "age_embedding (Embedding)       (None, 1, 64)        1344        age_input[0][0]                  \n",
      "__________________________________________________________________________________________________\n",
      "FlattenUsers (Flatten)          (None, 64)           0           user_embedding[0][0]             \n",
      "__________________________________________________________________________________________________\n",
      "FlattenMovies (Flatten)         (None, 64)           0           movie_embedding[0][0]            \n",
      "__________________________________________________________________________________________________\n",
      "FlattenOccu (Flatten)           (None, 64)           0           occu_embedding[0][0]             \n",
      "__________________________________________________________________________________________________\n",
      "FlattenGender (Flatten)         (None, 64)           0           gender_embedding[0][0]           \n",
      "__________________________________________________________________________________________________\n",
      "FlattenAge (Flatten)            (None, 64)           0           age_embedding[0][0]              \n",
      "__________________________________________________________________________________________________\n",
      "Simalarity-Dot-Product (Dot)    (None, 1)            0           FlattenUsers[0][0]               \n",
      "                                                                 FlattenMovies[0][0]              \n",
      "__________________________________________________________________________________________________\n",
      "Simalarity-Dot-Product-Occu (Do (None, 1)            0           FlattenUsers[0][0]               \n",
      "                                                                 FlattenOccu[0][0]                \n",
      "__________________________________________________________________________________________________\n",
      "Simalarity-Dot-Product-gender ( (None, 1)            0           FlattenUsers[0][0]               \n",
      "                                                                 FlattenGender[0][0]              \n",
      "__________________________________________________________________________________________________\n",
      "Simalarity-Dot-Product-age (Dot (None, 1)            0           FlattenUsers[0][0]               \n",
      "                                                                 FlattenAge[0][0]                 \n",
      "__________________________________________________________________________________________________\n",
      "add (Add)                       (None, 1)            0           Simalarity-Dot-Product[0][0]     \n",
      "                                                                 Simalarity-Dot-Product-Occu[0][0]\n",
      "                                                                 Simalarity-Dot-Product-gender[0][\n",
      "                                                                 Simalarity-Dot-Product-age[0][0] \n",
      "==================================================================================================\n",
      "Total params: 625,664\n",
      "Trainable params: 625,664\n",
      "Non-trainable params: 0\n",
      "__________________________________________________________________________________________________\n"
     ]
    }
   ],
   "source": [
    "sim_item_user=dot([user_vec,movie_vec],name='Simalarity-Dot-Product',axes=1)\n",
    "sim_occ_user=dot([user_vec,occu_vec],name='Simalarity-Dot-Product-Occu',axes=1)\n",
    "\n",
    "sim_gender_user=dot([user_vec,gender_vec],name='Simalarity-Dot-Product-gender',axes=1)\n",
    "sim_age_user=dot([user_vec,age_vec],name='Simalarity-Dot-Product-age',axes=1)\n",
    "\n",
    "add_layer_sim = add([sim_item_user,sim_occ_user,sim_gender_user,sim_age_user])\n",
    "\n",
    "\n",
    "model =Model([user_input, movie_input,user_occu,gender_input,age_input],add_layer_sim)\n",
    "model.summary()\n"
   ]
  },
  {
   "cell_type": "code",
   "execution_count": 18,
   "id": "d719aa91",
   "metadata": {},
   "outputs": [
    {
     "name": "stderr",
     "output_type": "stream",
     "text": [
      "/opt/anaconda3/lib/python3.8/site-packages/tensorflow/python/keras/optimizer_v2/optimizer_v2.py:374: UserWarning: The `lr` argument is deprecated, use `learning_rate` instead.\n",
      "  warnings.warn(\n"
     ]
    },
    {
     "name": "stdout",
     "output_type": "stream",
     "text": [
      "Epoch 1/10\n",
      "6259/6259 [==============================] - 30s 3ms/step - loss: 9.1801 - val_loss: 1.1542\n",
      "Epoch 2/10\n",
      "6259/6259 [==============================] - 18s 3ms/step - loss: 1.0534 - val_loss: 0.9320\n",
      "Epoch 3/10\n",
      "6259/6259 [==============================] - 17s 3ms/step - loss: 0.9144 - val_loss: 0.8885\n",
      "Epoch 4/10\n",
      "6259/6259 [==============================] - 17s 3ms/step - loss: 0.8748 - val_loss: 0.8666\n",
      "Epoch 5/10\n",
      "6259/6259 [==============================] - 17s 3ms/step - loss: 0.8534 - val_loss: 0.8523\n",
      "Epoch 6/10\n",
      "6259/6259 [==============================] - 18s 3ms/step - loss: 0.8399 - val_loss: 0.8438\n",
      "Epoch 7/10\n",
      "6259/6259 [==============================] - 17s 3ms/step - loss: 0.8281 - val_loss: 0.8378\n",
      "Epoch 8/10\n",
      "6259/6259 [==============================] - 17s 3ms/step - loss: 0.8233 - val_loss: 0.8338\n",
      "Epoch 9/10\n",
      "6259/6259 [==============================] - 17s 3ms/step - loss: 0.8168 - val_loss: 0.8288\n",
      "Epoch 10/10\n",
      "6259/6259 [==============================] - 19s 3ms/step - loss: 0.8102 - val_loss: 0.8251\n"
     ]
    }
   ],
   "source": [
    "model.compile(optimizer=Adam(lr=1e-4),loss='mse')\n",
    "train.shape\n",
    "batch_size=128\n",
    "epochs=10\n",
    "\n",
    "History = model.fit([train.userId,train.movieId,train.occupation,train.gender,train.age],train.rating, batch_size=batch_size,\n",
    "                    epochs =epochs, \n",
    "                    validation_data = ([valid.userId,valid.movieId,valid.occupation,valid.gender,valid.age],valid.rating),\n",
    "                              verbose = 1)"
   ]
  },
  {
   "cell_type": "code",
   "execution_count": null,
   "id": "6a1ebda2",
   "metadata": {},
   "outputs": [],
   "source": []
  }
 ],
 "metadata": {
  "kernelspec": {
   "display_name": "Python 3",
   "language": "python",
   "name": "python3"
  },
  "language_info": {
   "codemirror_mode": {
    "name": "ipython",
    "version": 3
   },
   "file_extension": ".py",
   "mimetype": "text/x-python",
   "name": "python",
   "nbconvert_exporter": "python",
   "pygments_lexer": "ipython3",
   "version": "3.8.8"
  }
 },
 "nbformat": 4,
 "nbformat_minor": 5
}
