{
 "cells": [
  {
   "cell_type": "code",
   "execution_count": 3,
   "id": "0bd03002",
   "metadata": {},
   "outputs": [],
   "source": [
    "import numpy as np\n",
    "import pandas as pd\n",
    "from time import time"
   ]
  },
  {
   "cell_type": "code",
   "execution_count": 4,
   "id": "53801b93",
   "metadata": {},
   "outputs": [
    {
     "name": "stdout",
     "output_type": "stream",
     "text": [
      "reading rating data...\n",
      "reading user data...\n",
      "data read in 5.906542062759399 seconds\n"
     ]
    }
   ],
   "source": [
    "print('reading rating data...')\n",
    "tic = time()\n",
    "data = np.loadtxt('./ml-1m/ratings.dat', skiprows=0,  delimiter='::').astype('int32')\n",
    "print(\"reading user data...\")\n",
    "datContent = [i.strip().split('::') for i in open(\"./ml-1m/users.dat\",encoding=\"ISO-8859-1\").readlines()]\n",
    "user_data = pd.DataFrame(datContent,columns=['userId','gender','occupation','age','zip'])\n",
    "print('data read in', time() - tic, 'seconds')"
   ]
  },
  {
   "cell_type": "code",
   "execution_count": 5,
   "id": "94449428",
   "metadata": {},
   "outputs": [
    {
     "data": {
      "text/html": [
       "<div>\n",
       "<style scoped>\n",
       "    .dataframe tbody tr th:only-of-type {\n",
       "        vertical-align: middle;\n",
       "    }\n",
       "\n",
       "    .dataframe tbody tr th {\n",
       "        vertical-align: top;\n",
       "    }\n",
       "\n",
       "    .dataframe thead th {\n",
       "        text-align: right;\n",
       "    }\n",
       "</style>\n",
       "<table border=\"1\" class=\"dataframe\">\n",
       "  <thead>\n",
       "    <tr style=\"text-align: right;\">\n",
       "      <th></th>\n",
       "      <th>userId</th>\n",
       "      <th>movieId</th>\n",
       "      <th>rating</th>\n",
       "      <th>timestampe</th>\n",
       "    </tr>\n",
       "  </thead>\n",
       "  <tbody>\n",
       "    <tr>\n",
       "      <th>0</th>\n",
       "      <td>1</td>\n",
       "      <td>1193</td>\n",
       "      <td>5</td>\n",
       "      <td>978300760</td>\n",
       "    </tr>\n",
       "    <tr>\n",
       "      <th>1</th>\n",
       "      <td>1</td>\n",
       "      <td>661</td>\n",
       "      <td>3</td>\n",
       "      <td>978302109</td>\n",
       "    </tr>\n",
       "    <tr>\n",
       "      <th>2</th>\n",
       "      <td>1</td>\n",
       "      <td>914</td>\n",
       "      <td>3</td>\n",
       "      <td>978301968</td>\n",
       "    </tr>\n",
       "    <tr>\n",
       "      <th>3</th>\n",
       "      <td>1</td>\n",
       "      <td>3408</td>\n",
       "      <td>4</td>\n",
       "      <td>978300275</td>\n",
       "    </tr>\n",
       "    <tr>\n",
       "      <th>4</th>\n",
       "      <td>1</td>\n",
       "      <td>2355</td>\n",
       "      <td>5</td>\n",
       "      <td>978824291</td>\n",
       "    </tr>\n",
       "  </tbody>\n",
       "</table>\n",
       "</div>"
      ],
      "text/plain": [
       "   userId  movieId  rating  timestampe\n",
       "0       1     1193       5   978300760\n",
       "1       1      661       3   978302109\n",
       "2       1      914       3   978301968\n",
       "3       1     3408       4   978300275\n",
       "4       1     2355       5   978824291"
      ]
     },
     "execution_count": 5,
     "metadata": {},
     "output_type": "execute_result"
    }
   ],
   "source": [
    "df =pd.DataFrame(data)\n",
    "df.columns=['userId','movieId','rating','timestampe']\n",
    "df.head()"
   ]
  },
  {
   "cell_type": "code",
   "execution_count": 6,
   "id": "376c7f48",
   "metadata": {},
   "outputs": [],
   "source": [
    "users = df.userId.unique()\n",
    "movies = df.movieId.unique()\n",
    "\n",
    "userid2idx = {o:i for i,o in enumerate(users)}\n",
    "movieid2idx = {o:i for i,o in enumerate(movies)}\n",
    "\n",
    "\n",
    "df['userId'] = df['userId'].apply(lambda x: userid2idx[x])\n",
    "df['movieId'] = df['movieId'].apply(lambda x: movieid2idx[x])"
   ]
  },
  {
   "cell_type": "code",
   "execution_count": 7,
   "id": "0fcb3dbf",
   "metadata": {},
   "outputs": [],
   "source": [
    "import torch\n",
    "from sklearn.utils import shuffle"
   ]
  },
  {
   "cell_type": "code",
   "execution_count": 8,
   "id": "a55b0ac3",
   "metadata": {},
   "outputs": [],
   "source": [
    "class Loader():\n",
    "    current = 0\n",
    "    def __init__(self, x, y, batchsize=1024, do_shuffle=True):\n",
    "        self.shuffle = shuffle\n",
    "        self.x = x\n",
    "        self.y = y\n",
    "        self.batchsize = batchsize\n",
    "        self.batches = range(0, len(self.y), batchsize)\n",
    "        if do_shuffle:\n",
    "            self.x, self.y = shuffle(self.x, self.y)\n",
    "\n",
    "\n",
    "    def __len__(self):\n",
    "        # Return the number of batches\n",
    "        return int(len(self.x) / self.batchsize)\n",
    "\n",
    "    def __next__(self):\n",
    "        # Update iterator and stop iteration until the batch size is out of range\n",
    "        n = self.batchsize\n",
    "        if self.current + n >= len(self.y):\n",
    "            raise StopIteration\n",
    "        i = self.current\n",
    "\n",
    "        # Transform NumPy arrays to PyTorch tensors\n",
    "        xs = torch.from_numpy(self.x[i:i + n])\n",
    "        ys = torch.from_numpy(self.y[i:i + n])\n",
    "        self.current += n\n",
    "        return xs, ys\n"
   ]
  },
  {
   "cell_type": "code",
   "execution_count": 9,
   "id": "f4536458",
   "metadata": {},
   "outputs": [],
   "source": [
    "split = np.random.rand(len(df)) < 0.8\n",
    "train = df[split]\n",
    "valid = df[~split]\n"
   ]
  },
  {
   "cell_type": "code",
   "execution_count": 10,
   "id": "b0b88103",
   "metadata": {},
   "outputs": [],
   "source": [
    "import torch\n",
    "from torch import nn\n",
    "import torch.nn.functional as F\n"
   ]
  },
  {
   "cell_type": "code",
   "execution_count": 33,
   "id": "267022a6",
   "metadata": {},
   "outputs": [],
   "source": [
    "def l2_regularize(array):\n",
    "    \"\"\"\n",
    "    Function to do L2 regularization\n",
    "    \"\"\"\n",
    "    loss = torch.sum(array ** 2.0)\n",
    "    return loss\n",
    "\n",
    "class MF(nn.Module):\n",
    "    itr = 0\n",
    "    def __init__(self,n_user, n_item, k=10, c_vector=1.0, writer=None):\n",
    "        super(MF , self).__init__()\n",
    "        self.n_user = n_user\n",
    "        self.n_item = n_item\n",
    "        self.c_vector = c_vector\n",
    "        \n",
    "        self.userEmbedding = nn.Embedding(num_embeddings=self.n_user , embedding_dim=k)\n",
    "        self.itemEmbedding = nn.Embedding(num_embeddings=self.n_item , embedding_dim=k)        \n",
    "    def forward(self,user,item):\n",
    "        vector_user = self.userEmbedding(torch.from_numpy(user))\n",
    "        vector_item = self.itemEmbedding(torch.from_numpy(item))\n",
    "        ui_interaction = torch.sum(vector_user * vector_item, dim=1)\n",
    "        return ui_interaction\n",
    "    \n",
    "    def loss(prediction, target):\n",
    "        loss_mse = F.mse_loss(prediction, target.squeeze())\n",
    "\n",
    "        prior_user = l2_regularize(self.userEmbedding.weight)*self.c_vector\n",
    "        prior_item = l2_regularize(self.itemEmbedding.weight)*self.c_vector        \n",
    "\n",
    "        loss_total = loss_mse+prior_user+prior_item\n",
    "        return loss\n",
    "\n"
   ]
  },
  {
   "cell_type": "code",
   "execution_count": 34,
   "id": "48777c6c",
   "metadata": {},
   "outputs": [],
   "source": [
    "users = df.userId.unique()\n",
    "movies = df.movieId.unique()\n",
    "\n",
    "n_user=len(users)\n",
    "n_item = len(movies)"
   ]
  },
  {
   "cell_type": "code",
   "execution_count": 35,
   "id": "3e4d0d0d",
   "metadata": {},
   "outputs": [],
   "source": [
    "# Define the Hyper-parameters\n",
    "lr = 1e-2  # Learning Rate\n",
    "k = 10  # Number of dimensions per user, item\n",
    "c_vector = 1e-6  # regularization constant"
   ]
  },
  {
   "cell_type": "code",
   "execution_count": 36,
   "id": "f409ece7",
   "metadata": {},
   "outputs": [
    {
     "data": {
      "text/plain": [
       "(6040, 3706)"
      ]
     },
     "execution_count": 36,
     "metadata": {},
     "output_type": "execute_result"
    }
   ],
   "source": [
    "n_user,n_item"
   ]
  },
  {
   "cell_type": "code",
   "execution_count": 37,
   "id": "69074740",
   "metadata": {},
   "outputs": [],
   "source": [
    "model = MF(n_user, n_item, k=k, c_vector=c_vector)"
   ]
  },
  {
   "cell_type": "code",
   "execution_count": 38,
   "id": "01d28a8c",
   "metadata": {},
   "outputs": [],
   "source": [
    "optimizer = torch.optim.Adam(model.parameters(),lr)"
   ]
  },
  {
   "cell_type": "code",
   "execution_count": 39,
   "id": "2790958a",
   "metadata": {},
   "outputs": [],
   "source": [
    "n_epoch =10\n",
    "loss_func = torch.nn.MSELoss()\n"
   ]
  },
  {
   "cell_type": "code",
   "execution_count": 43,
   "id": "dd50dfa6",
   "metadata": {},
   "outputs": [],
   "source": [
    "import numpy as np\n",
    "from scipy.sparse import rand as sprand\n",
    "import torch"
   ]
  },
  {
   "cell_type": "code",
   "execution_count": 52,
   "id": "85527107",
   "metadata": {},
   "outputs": [
    {
     "data": {
      "text/plain": [
       "array([[        0,         0,         5, 978300760],\n",
       "       [        0,         1,         3, 978302109],\n",
       "       [        0,         2,         3, 978301968],\n",
       "       ...,\n",
       "       [     6039,      1106,         5, 956704887],\n",
       "       [     6039,       365,         5, 956704746],\n",
       "       [     6039,       152,         4, 956715648]])"
      ]
     },
     "execution_count": 52,
     "metadata": {},
     "output_type": "execute_result"
    }
   ],
   "source": [
    "train.values"
   ]
  },
  {
   "cell_type": "code",
   "execution_count": 29,
   "id": "c6d2cf6b",
   "metadata": {},
   "outputs": [
    {
     "ename": "TypeError",
     "evalue": "forward() missing 2 required positional arguments: 'user' and 'item'",
     "output_type": "error",
     "traceback": [
      "\u001b[0;31m---------------------------------------------------------------------------\u001b[0m",
      "\u001b[0;31mTypeError\u001b[0m                                 Traceback (most recent call last)",
      "\u001b[0;32m<ipython-input-29-f75e72bc0ef0>\u001b[0m in \u001b[0;36m<module>\u001b[0;34m\u001b[0m\n\u001b[1;32m      2\u001b[0m \u001b[0moptimizer\u001b[0m \u001b[0;34m=\u001b[0m \u001b[0mtorch\u001b[0m\u001b[0;34m.\u001b[0m\u001b[0moptim\u001b[0m\u001b[0;34m.\u001b[0m\u001b[0mSGD\u001b[0m\u001b[0;34m(\u001b[0m\u001b[0mmodel\u001b[0m\u001b[0;34m.\u001b[0m\u001b[0mparameters\u001b[0m\u001b[0;34m(\u001b[0m\u001b[0;34m)\u001b[0m\u001b[0;34m,\u001b[0m \u001b[0mlr\u001b[0m\u001b[0;34m=\u001b[0m\u001b[0;36m0.000001\u001b[0m\u001b[0;34m)\u001b[0m\u001b[0;34m\u001b[0m\u001b[0;34m\u001b[0m\u001b[0m\n\u001b[1;32m      3\u001b[0m \u001b[0;32mfor\u001b[0m \u001b[0mepoch\u001b[0m \u001b[0;32min\u001b[0m \u001b[0mrange\u001b[0m\u001b[0;34m(\u001b[0m\u001b[0mn_epoch\u001b[0m\u001b[0;34m)\u001b[0m\u001b[0;34m:\u001b[0m\u001b[0;34m\u001b[0m\u001b[0;34m\u001b[0m\u001b[0m\n\u001b[0;32m----> 4\u001b[0;31m     \u001b[0mY_\u001b[0m \u001b[0;34m=\u001b[0m \u001b[0mmodel\u001b[0m\u001b[0;34m(\u001b[0m\u001b[0;34m)\u001b[0m\u001b[0;34m\u001b[0m\u001b[0;34m\u001b[0m\u001b[0m\n\u001b[0m\u001b[1;32m      5\u001b[0m     \u001b[0mloss\u001b[0m \u001b[0;34m=\u001b[0m \u001b[0mloss_fn\u001b[0m\u001b[0;34m(\u001b[0m\u001b[0mY_\u001b[0m\u001b[0;34m,\u001b[0m \u001b[0mtorch\u001b[0m\u001b[0;34m.\u001b[0m\u001b[0mTensor\u001b[0m\u001b[0;34m(\u001b[0m\u001b[0mtrain\u001b[0m\u001b[0;34m.\u001b[0m\u001b[0mrating\u001b[0m\u001b[0;34m.\u001b[0m\u001b[0mastype\u001b[0m\u001b[0;34m(\u001b[0m\u001b[0mnp\u001b[0m\u001b[0;34m.\u001b[0m\u001b[0mfloat\u001b[0m\u001b[0;34m)\u001b[0m\u001b[0;34m.\u001b[0m\u001b[0mvalues\u001b[0m\u001b[0;34m)\u001b[0m\u001b[0;34m)\u001b[0m\u001b[0;34m\u001b[0m\u001b[0;34m\u001b[0m\u001b[0m\n\u001b[1;32m      6\u001b[0m     \u001b[0mmodel\u001b[0m\u001b[0;34m.\u001b[0m\u001b[0mzero_grad\u001b[0m\u001b[0;34m(\u001b[0m\u001b[0;34m)\u001b[0m \u001b[0;31m# need to clear the old gradients\u001b[0m\u001b[0;34m\u001b[0m\u001b[0;34m\u001b[0m\u001b[0m\n",
      "\u001b[0;32m/opt/anaconda3/lib/python3.8/site-packages/torch/nn/modules/module.py\u001b[0m in \u001b[0;36m_call_impl\u001b[0;34m(self, *input, **kwargs)\u001b[0m\n\u001b[1;32m   1049\u001b[0m         if not (self._backward_hooks or self._forward_hooks or self._forward_pre_hooks or _global_backward_hooks\n\u001b[1;32m   1050\u001b[0m                 or _global_forward_hooks or _global_forward_pre_hooks):\n\u001b[0;32m-> 1051\u001b[0;31m             \u001b[0;32mreturn\u001b[0m \u001b[0mforward_call\u001b[0m\u001b[0;34m(\u001b[0m\u001b[0;34m*\u001b[0m\u001b[0minput\u001b[0m\u001b[0;34m,\u001b[0m \u001b[0;34m**\u001b[0m\u001b[0mkwargs\u001b[0m\u001b[0;34m)\u001b[0m\u001b[0;34m\u001b[0m\u001b[0;34m\u001b[0m\u001b[0m\n\u001b[0m\u001b[1;32m   1052\u001b[0m         \u001b[0;31m# Do not call functions when jit is used\u001b[0m\u001b[0;34m\u001b[0m\u001b[0;34m\u001b[0m\u001b[0;34m\u001b[0m\u001b[0m\n\u001b[1;32m   1053\u001b[0m         \u001b[0mfull_backward_hooks\u001b[0m\u001b[0;34m,\u001b[0m \u001b[0mnon_full_backward_hooks\u001b[0m \u001b[0;34m=\u001b[0m \u001b[0;34m[\u001b[0m\u001b[0;34m]\u001b[0m\u001b[0;34m,\u001b[0m \u001b[0;34m[\u001b[0m\u001b[0;34m]\u001b[0m\u001b[0;34m\u001b[0m\u001b[0;34m\u001b[0m\u001b[0m\n",
      "\u001b[0;31mTypeError\u001b[0m: forward() missing 2 required positional arguments: 'user' and 'item'"
     ]
    }
   ],
   "source": [
    "task3loss=[]\n",
    "optimizer = torch.optim.SGD(model.parameters(), lr=0.000001)\n",
    "for epoch in range(n_epoch):\n",
    "    Y_ = model()\n",
    "    loss = loss_fn(Y_, torch.Tensor(train.rating.astype(np.float).values))\n",
    "    model.zero_grad() # need to clear the old gradients\n",
    "    loss.backward()\n",
    "    optimizer.step()\n",
    "#    print(loss)\n",
    "    task3loss.append(loss)\n",
    "    print(loss)\n"
   ]
  },
  {
   "cell_type": "code",
   "execution_count": 33,
   "id": "6bc63fec",
   "metadata": {},
   "outputs": [
    {
     "data": {
      "text/plain": [
       "tensor(18986216., grad_fn=<MseLossBackward>)"
      ]
     },
     "execution_count": 33,
     "metadata": {},
     "output_type": "execute_result"
    }
   ],
   "source": [
    "loss"
   ]
  },
  {
   "cell_type": "code",
   "execution_count": null,
   "id": "748462bd",
   "metadata": {},
   "outputs": [],
   "source": []
  }
 ],
 "metadata": {
  "kernelspec": {
   "display_name": "Python 3",
   "language": "python",
   "name": "python3"
  },
  "language_info": {
   "codemirror_mode": {
    "name": "ipython",
    "version": 3
   },
   "file_extension": ".py",
   "mimetype": "text/x-python",
   "name": "python",
   "nbconvert_exporter": "python",
   "pygments_lexer": "ipython3",
   "version": "3.8.8"
  }
 },
 "nbformat": 4,
 "nbformat_minor": 5
}
