{
 "cells": [
  {
   "cell_type": "markdown",
   "id": "3406b2f7",
   "metadata": {},
   "source": [
    "### Used ignite to take regularization function into account , which was throwing some error in pytorch "
   ]
  },
  {
   "cell_type": "code",
   "execution_count": 160,
   "id": "8485eac3",
   "metadata": {},
   "outputs": [],
   "source": [
    "import torch\n",
    "import numpy as np\n",
    "import pandas as pd\n",
    "from torch import nn\n",
    "from time import time\n",
    "from ignite.metrics import Loss\n",
    "import torch.nn.functional as F\n",
    "from sklearn.utils import shuffle\n",
    "from torch.utils.data import DataLoader\n",
    "from ignite.metrics import MeanSquaredError\n",
    "from sklearn.model_selection import train_test_split\n",
    "from ignite.engine import Events, create_supervised_trainer, create_supervised_evaluator"
   ]
  },
  {
   "cell_type": "code",
   "execution_count": 132,
   "id": "99b41078",
   "metadata": {},
   "outputs": [
    {
     "name": "stdout",
     "output_type": "stream",
     "text": [
      "reading rating data...\n",
      "reading user data...\n",
      "data read in 5.757378816604614 seconds\n"
     ]
    }
   ],
   "source": [
    "print('reading rating data...')\n",
    "tic = time()\n",
    "data = np.loadtxt('./ml-1m/ratings.dat', skiprows=0,  delimiter='::').astype('int32')\n",
    "print(\"reading user data...\")\n",
    "datContent = [i.strip().split('::') for i in open(\"./ml-1m/users.dat\",encoding=\"ISO-8859-1\").readlines()]\n",
    "user_data = pd.DataFrame(datContent,columns=['userId','gender','occupation','age','zip'])\n",
    "print('data read in', time() - tic, 'seconds')"
   ]
  },
  {
   "cell_type": "code",
   "execution_count": 133,
   "id": "0a453726",
   "metadata": {},
   "outputs": [],
   "source": [
    "df =pd.DataFrame(data)\n",
    "df.columns=['userId','movieId','rating','timestampe']\n",
    "\n",
    "users = df.userId.unique()\n",
    "movies = df.movieId.unique()\n",
    "\n",
    "userid2idx = {o:i for i,o in enumerate(users)}\n",
    "movieid2idx = {o:i for i,o in enumerate(movies)}\n",
    "\n",
    "\n",
    "df['userId'] = df['userId'].apply(lambda x: userid2idx[x])\n",
    "df['movieId'] = df['movieId'].apply(lambda x: movieid2idx[x])"
   ]
  },
  {
   "cell_type": "code",
   "execution_count": 134,
   "id": "8c2f9917",
   "metadata": {},
   "outputs": [],
   "source": [
    "class Loader():\n",
    "    current = 0\n",
    "    def __init__(self, x, y, batchsize=1024, do_shuffle=True):\n",
    "        self.shuffle = shuffle\n",
    "        self.x = x\n",
    "        self.y = y\n",
    "        self.batchsize = batchsize\n",
    "        self.batches = range(0, len(self.y), batchsize)\n",
    "        if do_shuffle:\n",
    "            self.x, self.y = shuffle(self.x, self.y)\n",
    "\n",
    "    def __iter__(self):\n",
    "        # Reset & return a new iterator\n",
    "        self.x, self.y = shuffle(self.x, self.y, random_state=0)\n",
    "        self.current = 0\n",
    "        return self\n",
    "\n",
    "    def __len__(self):\n",
    "        # Return the number of batches\n",
    "        return int(len(self.x) / self.batchsize)\n",
    "\n",
    "    def __next__(self):\n",
    "        # Update iterator and stop iteration until the batch size is out of range\n",
    "        n = self.batchsize\n",
    "        if self.current + n >= len(self.y):\n",
    "            raise StopIteration\n",
    "        i = self.current\n",
    "\n",
    "        # Transform NumPy arrays to PyTorch tensors\n",
    "        xs = torch.from_numpy(self.x[i:i + n])\n",
    "        ys = torch.from_numpy(self.y[i:i + n])\n",
    "        self.current += n\n",
    "        return xs, ys"
   ]
  },
  {
   "cell_type": "code",
   "execution_count": 135,
   "id": "963be92d",
   "metadata": {},
   "outputs": [],
   "source": [
    "batch_size=1024*4"
   ]
  },
  {
   "cell_type": "code",
   "execution_count": 137,
   "id": "c40961db",
   "metadata": {},
   "outputs": [],
   "source": [
    "train,valid = train_test_split(df,random_state=123)"
   ]
  },
  {
   "cell_type": "code",
   "execution_count": 139,
   "id": "7f263996",
   "metadata": {},
   "outputs": [],
   "source": [
    "train_loader = Loader(train.values ,train.values[:,2] , batchsize=batch_size , do_shuffle=False)\n",
    "test_loader = Loader(valid.values ,valid.values[:,2], batchsize=batch_size , do_shuffle=False )"
   ]
  },
  {
   "cell_type": "code",
   "execution_count": 141,
   "id": "d9ea8a59",
   "metadata": {},
   "outputs": [],
   "source": [
    "def l2_regularize(array):\n",
    "    \"\"\"\n",
    "    Function to do L2 regularization\n",
    "    \"\"\"\n",
    "    loss = torch.sum(array ** 2.0)\n",
    "    return loss\n",
    "lr = 1e-2  # Learning Rate\n",
    "k = 10  # Number of dimensions per user, item\n",
    "c_vector = 1e-6  # regularization constant\n",
    "\n",
    "class MF(nn.Module):\n",
    "    itr = 0\n",
    "    def __init__(self,n_user, n_item, k=10, c_vector=1e-6 , writer=None):\n",
    "        super(MF , self).__init__()\n",
    "        self.n_user = n_user\n",
    "        self.n_item = n_item\n",
    "        self.c_vector = c_vector\n",
    "        \n",
    "        self.userEmbedding = nn.Embedding(num_embeddings=self.n_user , embedding_dim=k)\n",
    "        self.itemEmbedding = nn.Embedding(num_embeddings=self.n_item , embedding_dim=k)        \n",
    "    def forward(self,x):\n",
    "        user= x[:,0]\n",
    "        item= x[:,1]\n",
    "        \n",
    "        vector_user = self.userEmbedding(user)\n",
    "        vector_item = self.itemEmbedding(item)\n",
    "        ui_interaction = torch.sum(vector_user * vector_item, dim=1)\n",
    "        return ui_interaction\n",
    "    \n",
    "    def loss(self,prediction, target):\n",
    "        loss_mse = F.mse_loss(prediction, target.squeeze().type(torch.FloatTensor))\n",
    "\n",
    "        prior_user = l2_regularize(self.userEmbedding.weight)*self.c_vector\n",
    "        prior_item = l2_regularize(self.itemEmbedding.weight)*self.c_vector        \n",
    "\n",
    "        loss_total = loss_mse+prior_user+prior_item\n",
    "        return loss_total\n"
   ]
  },
  {
   "cell_type": "code",
   "execution_count": 150,
   "id": "922d467c",
   "metadata": {},
   "outputs": [],
   "source": [
    "users = df.userId.unique()\n",
    "movies = df.movieId.unique()\n",
    "n_user=len(users)\n",
    "n_item = len(movies)"
   ]
  },
  {
   "cell_type": "code",
   "execution_count": 151,
   "id": "24c65bf5",
   "metadata": {},
   "outputs": [],
   "source": [
    "model = MF(n_user , n_item , k=10,c_vector=1e-6)"
   ]
  },
  {
   "cell_type": "code",
   "execution_count": 152,
   "id": "6c48f8ea",
   "metadata": {},
   "outputs": [],
   "source": [
    "n_epoch =10\n",
    "lr = 0.01\n",
    "loss_func = torch.nn.MSELoss()"
   ]
  },
  {
   "cell_type": "code",
   "execution_count": 153,
   "id": "0b48aa8c",
   "metadata": {},
   "outputs": [],
   "source": [
    "optimizer = torch.optim.Adam(model.parameters(),lr)"
   ]
  },
  {
   "cell_type": "code",
   "execution_count": 154,
   "id": "3c023592",
   "metadata": {},
   "outputs": [],
   "source": [
    "trainer = create_supervised_trainer(model, optimizer, loss_fn=model.loss)"
   ]
  },
  {
   "cell_type": "code",
   "execution_count": 155,
   "id": "651e29b9",
   "metadata": {},
   "outputs": [],
   "source": [
    "metrics = {'evaluation': MeanSquaredError()}\n",
    "evaluator = create_supervised_evaluator(model, metrics=metrics)"
   ]
  },
  {
   "cell_type": "code",
   "execution_count": 156,
   "id": "d84bcc80",
   "metadata": {},
   "outputs": [
    {
     "data": {
      "text/plain": [
       "<ignite.engine.events.RemovableEventHandle at 0x7fd10c1da220>"
      ]
     },
     "execution_count": 156,
     "metadata": {},
     "output_type": "execute_result"
    }
   ],
   "source": [
    "def log_training_loss(engine, log_interval=500):\n",
    "    \"\"\"\n",
    "    Function to log the training loss\n",
    "    \"\"\"\n",
    "    model.itr = engine.state.iteration  # Keep track of iterations\n",
    "    if model.itr % log_interval == 0:\n",
    "        fmt = \"Epoch[{}] Iteration[{}/{}] Loss: {:.4f}\"\n",
    "        # Keep track of epochs and outputs\n",
    "        msg = fmt.format(engine.state.epoch, engine.state.iteration, len(train_loader), engine.state.output)\n",
    "        print(msg)\n",
    "\n",
    "\n",
    "trainer.add_event_handler(event_name=Events.ITERATION_COMPLETED, handler=log_training_loss)\n",
    "\n",
    "\n",
    "def log_validation_results(engine):\n",
    "    evaluator.run(test_loader)\n",
    "    avg_loss = evaluator.state.metrics['evaluation']\n",
    "    print(\"Epoch[{}] Validation MSE: {:.4f} \".format(engine.state.epoch, avg_loss))\n",
    "\n",
    "\n",
    "trainer.add_event_handler(event_name=Events.EPOCH_COMPLETED, handler=log_validation_results)\n"
   ]
  },
  {
   "cell_type": "code",
   "execution_count": 149,
   "id": "7bceeceb",
   "metadata": {},
   "outputs": [
    {
     "name": "stdout",
     "output_type": "stream",
     "text": [
      "Epoch[1] Validation MSE: 16.6346 \n",
      "Epoch[2] Validation MSE: 11.3862 \n",
      "Epoch[3] Iteration[500/183] Loss: 2.9799\n",
      "Epoch[3] Validation MSE: 2.3249 \n",
      "Epoch[4] Validation MSE: 1.3322 \n",
      "Epoch[5] Validation MSE: 1.1113 \n",
      "Epoch[6] Iteration[1000/183] Loss: 0.9088\n",
      "Epoch[6] Validation MSE: 1.0228 \n",
      "Epoch[7] Validation MSE: 0.9777 \n",
      "Epoch[8] Validation MSE: 0.9521 \n",
      "Epoch[9] Iteration[1500/183] Loss: 0.8530\n",
      "Epoch[9] Validation MSE: 0.9339 \n",
      "Epoch[10] Validation MSE: 0.9229 \n",
      "Epoch[11] Iteration[2000/183] Loss: 0.7727\n",
      "Epoch[11] Validation MSE: 0.9140 \n",
      "Epoch[12] Validation MSE: 0.9063 \n",
      "Epoch[13] Validation MSE: 0.8986 \n",
      "Epoch[14] Iteration[2500/183] Loss: 0.7912\n",
      "Epoch[14] Validation MSE: 0.8924 \n",
      "Epoch[15] Validation MSE: 0.8866 \n",
      "Epoch[16] Validation MSE: 0.8814 \n",
      "Epoch[17] Iteration[3000/183] Loss: 0.6980\n",
      "Epoch[17] Validation MSE: 0.8777 \n",
      "Epoch[18] Validation MSE: 0.8754 \n",
      "Epoch[19] Validation MSE: 0.8705 \n",
      "Epoch[20] Iteration[3500/183] Loss: 0.6850\n",
      "Epoch[20] Validation MSE: 0.8692 \n",
      "Epoch[21] Validation MSE: 0.8665 \n",
      "Epoch[22] Iteration[4000/183] Loss: 0.7236\n",
      "Epoch[22] Validation MSE: 0.8641 \n",
      "Epoch[23] Validation MSE: 0.8620 \n",
      "Epoch[24] Validation MSE: 0.8606 \n",
      "Epoch[25] Iteration[4500/183] Loss: 0.7007\n",
      "Epoch[25] Validation MSE: 0.8579 \n",
      "Epoch[26] Validation MSE: 0.8592 \n",
      "Epoch[27] Validation MSE: 0.8560 \n",
      "Epoch[28] Iteration[5000/183] Loss: 0.7090\n",
      "Epoch[28] Validation MSE: 0.8548 \n",
      "Epoch[29] Validation MSE: 0.8532 \n",
      "Epoch[30] Validation MSE: 0.8520 \n",
      "Epoch[31] Iteration[5500/183] Loss: 0.6207\n",
      "Epoch[31] Validation MSE: 0.8522 \n",
      "Epoch[32] Validation MSE: 0.8512 \n",
      "Epoch[33] Iteration[6000/183] Loss: 0.6446\n",
      "Epoch[33] Validation MSE: 0.8491 \n",
      "Epoch[34] Validation MSE: 0.8495 \n",
      "Epoch[35] Validation MSE: 0.8473 \n",
      "Epoch[36] Iteration[6500/183] Loss: 0.6632\n",
      "Epoch[36] Validation MSE: 0.8498 \n",
      "Epoch[37] Validation MSE: 0.8475 \n",
      "Epoch[38] Validation MSE: 0.8474 \n",
      "Epoch[39] Iteration[7000/183] Loss: 0.6241\n",
      "Epoch[39] Validation MSE: 0.8485 \n",
      "Epoch[40] Validation MSE: 0.8470 \n",
      "Epoch[41] Iteration[7500/183] Loss: 0.6585\n",
      "Epoch[41] Validation MSE: 0.8473 \n",
      "Epoch[42] Validation MSE: 0.8481 \n",
      "Epoch[43] Validation MSE: 0.8483 \n",
      "Epoch[44] Iteration[8000/183] Loss: 0.6562\n",
      "Epoch[44] Validation MSE: 0.8477 \n",
      "Epoch[45] Validation MSE: 0.8484 \n",
      "Epoch[46] Validation MSE: 0.8469 \n",
      "Epoch[47] Iteration[8500/183] Loss: 0.6379\n",
      "Epoch[47] Validation MSE: 0.8490 \n",
      "Epoch[48] Validation MSE: 0.8503 \n",
      "Epoch[49] Validation MSE: 0.8480 \n",
      "Epoch[50] Iteration[9000/183] Loss: 0.6211\n",
      "Epoch[50] Validation MSE: 0.8486 \n"
     ]
    },
    {
     "data": {
      "text/plain": [
       "State:\n",
       "\titeration: 9150\n",
       "\tepoch: 50\n",
       "\tepoch_length: 183\n",
       "\tmax_epochs: 50\n",
       "\toutput: 0.6598857641220093\n",
       "\tbatch: <class 'tuple'>\n",
       "\tmetrics: <class 'dict'>\n",
       "\tdataloader: <class '__main__.Loader'>\n",
       "\tseed: <class 'NoneType'>\n",
       "\ttimes: <class 'dict'>"
      ]
     },
     "execution_count": 149,
     "metadata": {},
     "output_type": "execute_result"
    }
   ],
   "source": [
    "trainer.run(train_loader, max_epochs=50)"
   ]
  },
  {
   "cell_type": "code",
   "execution_count": 157,
   "id": "21427677",
   "metadata": {},
   "outputs": [
    {
     "name": "stdout",
     "output_type": "stream",
     "text": [
      "Epoch[1] Validation MSE: 16.2995 \n",
      "Epoch[2] Validation MSE: 8.4738 \n",
      "Epoch[3] Iteration[500/183] Loss: 2.3184\n",
      "Epoch[3] Validation MSE: 1.8756 \n",
      "Epoch[4] Validation MSE: 1.2480 \n",
      "Epoch[5] Validation MSE: 1.0757 \n",
      "Epoch[6] Iteration[1000/183] Loss: 0.9939\n",
      "Epoch[6] Validation MSE: 0.9998 \n",
      "Epoch[7] Validation MSE: 0.9591 \n",
      "Epoch[8] Validation MSE: 0.9344 \n",
      "Epoch[9] Iteration[1500/183] Loss: 0.8466\n",
      "Epoch[9] Validation MSE: 0.9178 \n",
      "Epoch[10] Validation MSE: 0.9041 \n",
      "Epoch[11] Iteration[2000/183] Loss: 0.8323\n",
      "Epoch[11] Validation MSE: 0.8925 \n",
      "Epoch[12] Validation MSE: 0.8819 \n",
      "Epoch[13] Validation MSE: 0.8730 \n",
      "Epoch[14] Iteration[2500/183] Loss: 0.8349\n",
      "Epoch[14] Validation MSE: 0.8634 \n",
      "Epoch[15] Validation MSE: 0.8567 \n",
      "Epoch[16] Validation MSE: 0.8510 \n",
      "Epoch[17] Iteration[3000/183] Loss: 0.7769\n",
      "Epoch[17] Validation MSE: 0.8456 \n",
      "Epoch[18] Validation MSE: 0.8425 \n",
      "Epoch[19] Validation MSE: 0.8368 \n",
      "Epoch[20] Iteration[3500/183] Loss: 0.7517\n",
      "Epoch[20] Validation MSE: 0.8342 \n",
      "Epoch[21] Validation MSE: 0.8295 \n",
      "Epoch[22] Iteration[4000/183] Loss: 0.7461\n",
      "Epoch[22] Validation MSE: 0.8268 \n",
      "Epoch[23] Validation MSE: 0.8236 \n",
      "Epoch[24] Validation MSE: 0.8220 \n",
      "Epoch[25] Iteration[4500/183] Loss: 0.7215\n",
      "Epoch[25] Validation MSE: 0.8199 \n",
      "Epoch[26] Validation MSE: 0.8180 \n",
      "Epoch[27] Validation MSE: 0.8160 \n",
      "Epoch[28] Iteration[5000/183] Loss: 0.7193\n",
      "Epoch[28] Validation MSE: 0.8143 \n",
      "Epoch[29] Validation MSE: 0.8130 \n",
      "Epoch[30] Validation MSE: 0.8122 \n",
      "Epoch[31] Iteration[5500/183] Loss: 0.6776\n",
      "Epoch[31] Validation MSE: 0.8097 \n",
      "Epoch[32] Validation MSE: 0.8120 \n",
      "Epoch[33] Iteration[6000/183] Loss: 0.7250\n",
      "Epoch[33] Validation MSE: 0.8094 \n",
      "Epoch[34] Validation MSE: 0.8094 \n",
      "Epoch[35] Validation MSE: 0.8089 \n",
      "Epoch[36] Iteration[6500/183] Loss: 0.6853\n",
      "Epoch[36] Validation MSE: 0.8081 \n",
      "Epoch[37] Validation MSE: 0.8087 \n",
      "Epoch[38] Validation MSE: 0.8073 \n",
      "Epoch[39] Iteration[7000/183] Loss: 0.6690\n",
      "Epoch[39] Validation MSE: 0.8063 \n",
      "Epoch[40] Validation MSE: 0.8068 \n",
      "Epoch[41] Iteration[7500/183] Loss: 0.7034\n",
      "Epoch[41] Validation MSE: 0.8079 \n",
      "Epoch[42] Validation MSE: 0.8081 \n",
      "Epoch[43] Validation MSE: 0.8066 \n",
      "Epoch[44] Iteration[8000/183] Loss: 0.7352\n",
      "Epoch[44] Validation MSE: 0.8066 \n",
      "Epoch[45] Validation MSE: 0.8072 \n",
      "Epoch[46] Validation MSE: 0.8048 \n",
      "Epoch[47] Iteration[8500/183] Loss: 0.6982\n",
      "Epoch[47] Validation MSE: 0.8059 \n",
      "Epoch[48] Validation MSE: 0.8064 \n",
      "Epoch[49] Validation MSE: 0.8051 \n",
      "Epoch[50] Iteration[9000/183] Loss: 0.6648\n",
      "Epoch[50] Validation MSE: 0.8058 \n"
     ]
    },
    {
     "data": {
      "text/plain": [
       "State:\n",
       "\titeration: 9150\n",
       "\tepoch: 50\n",
       "\tepoch_length: 183\n",
       "\tmax_epochs: 50\n",
       "\toutput: 0.6985897421836853\n",
       "\tbatch: <class 'tuple'>\n",
       "\tmetrics: <class 'dict'>\n",
       "\tdataloader: <class '__main__.Loader'>\n",
       "\tseed: <class 'NoneType'>\n",
       "\ttimes: <class 'dict'>"
      ]
     },
     "execution_count": 157,
     "metadata": {},
     "output_type": "execute_result"
    }
   ],
   "source": [
    "trainer.run(train_loader, max_epochs=50)"
   ]
  },
  {
   "cell_type": "code",
   "execution_count": 162,
   "id": "1fe4d397",
   "metadata": {},
   "outputs": [
    {
     "data": {
      "text/plain": [
       "Parameter containing:\n",
       "tensor([[-5.7700e-01, -6.8974e-01, -3.4236e-01,  ...,  1.0896e+00,\n",
       "          1.9021e-01,  9.5048e-01],\n",
       "        [ 8.8600e-02, -6.9858e-02, -8.7543e-01,  ...,  1.0177e+00,\n",
       "         -4.7718e-01,  4.0930e-01],\n",
       "        [-6.9491e-01, -2.0536e-01, -9.7252e-01,  ...,  1.3297e+00,\n",
       "          4.7568e-01,  2.3300e-02],\n",
       "        ...,\n",
       "        [ 1.0639e-01, -3.1469e-01,  1.1228e-01,  ...,  1.6115e-01,\n",
       "         -2.3457e-02,  7.2122e-02],\n",
       "        [-2.7231e-39, -1.1830e-38, -3.0027e-38,  ..., -1.2503e-38,\n",
       "         -2.5294e-38,  4.1984e-39],\n",
       "        [-3.3379e-02, -2.4302e-01, -7.2781e-01,  ...,  5.1424e-01,\n",
       "          2.9769e-01,  8.4839e-01]], requires_grad=True)"
      ]
     },
     "execution_count": 162,
     "metadata": {},
     "output_type": "execute_result"
    }
   ],
   "source": [
    "model.itemEmbedding.weight"
   ]
  },
  {
   "cell_type": "code",
   "execution_count": null,
   "id": "48085378",
   "metadata": {},
   "outputs": [],
   "source": []
  }
 ],
 "metadata": {
  "kernelspec": {
   "display_name": "Python 3",
   "language": "python",
   "name": "python3"
  },
  "language_info": {
   "codemirror_mode": {
    "name": "ipython",
    "version": 3
   },
   "file_extension": ".py",
   "mimetype": "text/x-python",
   "name": "python",
   "nbconvert_exporter": "python",
   "pygments_lexer": "ipython3",
   "version": "3.8.8"
  }
 },
 "nbformat": 4,
 "nbformat_minor": 5
}
