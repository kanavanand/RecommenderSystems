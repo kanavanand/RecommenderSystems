{
 "cells": [
  {
   "cell_type": "code",
   "execution_count": 1,
   "id": "f24ac33c",
   "metadata": {},
   "outputs": [],
   "source": [
    "import numpy as np\n",
    "import pandas as pd\n",
    "from time import time\n",
    "from torch.utils.data import DataLoader\n"
   ]
  },
  {
   "cell_type": "code",
   "execution_count": 2,
   "id": "7e95b5df",
   "metadata": {},
   "outputs": [
    {
     "name": "stdout",
     "output_type": "stream",
     "text": [
      "reading rating data...\n",
      "reading user data...\n",
      "data read in 5.755181074142456 seconds\n"
     ]
    }
   ],
   "source": [
    "print('reading rating data...')\n",
    "tic = time()\n",
    "data = np.loadtxt('./ml-1m/ratings.dat', skiprows=0,  delimiter='::').astype('int32')\n",
    "print(\"reading user data...\")\n",
    "datContent = [i.strip().split('::') for i in open(\"./ml-1m/users.dat\",encoding=\"ISO-8859-1\").readlines()]\n",
    "user_data = pd.DataFrame(datContent,columns=['userId','gender','occupation','age','zip'])\n",
    "print('data read in', time() - tic, 'seconds')"
   ]
  },
  {
   "cell_type": "code",
   "execution_count": 3,
   "id": "7c88df74",
   "metadata": {},
   "outputs": [],
   "source": [
    "df =pd.DataFrame(data)\n",
    "df.columns=['userId','movieId','rating','timestampe']\n",
    "\n",
    "users = df.userId.unique()\n",
    "movies = df.movieId.unique()\n",
    "\n",
    "userid2idx = {o:i for i,o in enumerate(users)}\n",
    "movieid2idx = {o:i for i,o in enumerate(movies)}\n",
    "\n",
    "\n",
    "df['userId'] = df['userId'].apply(lambda x: userid2idx[x])\n",
    "df['movieId'] = df['movieId'].apply(lambda x: movieid2idx[x])"
   ]
  },
  {
   "cell_type": "code",
   "execution_count": 4,
   "id": "a198afdc",
   "metadata": {},
   "outputs": [],
   "source": [
    "batch_size=1024*4"
   ]
  },
  {
   "cell_type": "code",
   "execution_count": 5,
   "id": "3e9c21b6",
   "metadata": {},
   "outputs": [],
   "source": [
    "split = np.random.rand(len(df)) < 0.8\n",
    "train = df[split]\n",
    "valid = df[~split]\n"
   ]
  },
  {
   "cell_type": "code",
   "execution_count": 6,
   "id": "bf7533fa",
   "metadata": {},
   "outputs": [],
   "source": [
    "train_loader = DataLoader(train.values , batch_size=batch_size , shuffle=True ,)\n",
    "valid_loader = DataLoader(valid.values , batch_size=batch_size , shuffle=True )"
   ]
  },
  {
   "cell_type": "code",
   "execution_count": 7,
   "id": "e28369f1",
   "metadata": {},
   "outputs": [],
   "source": [
    "import torch\n",
    "from torch import nn\n",
    "import torch.nn.functional as F\n"
   ]
  },
  {
   "cell_type": "code",
   "execution_count": 8,
   "id": "1d7cc63b",
   "metadata": {},
   "outputs": [],
   "source": [
    "def l2_regularize(array):\n",
    "    \"\"\"\n",
    "    Function to do L2 regularization\n",
    "    \"\"\"\n",
    "    loss = torch.sum(array ** 2.0)\n",
    "    return loss\n",
    "\n",
    "class MF(nn.Module):\n",
    "    itr = 0\n",
    "    def __init__(self,n_user, n_item, k=10, c_vector=1.0, writer=None):\n",
    "        super(MF , self).__init__()\n",
    "        self.n_user = n_user\n",
    "        self.n_item = n_item\n",
    "        self.c_vector = c_vector\n",
    "        \n",
    "        self.userEmbedding = nn.Embedding(num_embeddings=self.n_user , embedding_dim=k)\n",
    "        self.itemEmbedding = nn.Embedding(num_embeddings=self.n_item , embedding_dim=k)        \n",
    "    def forward(self,x):\n",
    "        user= x[:,0]\n",
    "        item= x[:,1]\n",
    "        \n",
    "        vector_user = self.userEmbedding(user)\n",
    "        vector_item = self.itemEmbedding(item)\n",
    "        ui_interaction = torch.sum(vector_user * vector_item, dim=1)\n",
    "        return ui_interaction\n",
    "    \n",
    "    def loss(self,prediction, target):\n",
    "        loss_mse = F.mse_loss(prediction, target.squeeze())\n",
    "\n",
    "        prior_user = l2_regularize(self.userEmbedding.weight)*self.c_vector\n",
    "        prior_item = l2_regularize(self.itemEmbedding.weight)*self.c_vector        \n",
    "\n",
    "        loss_total = loss_mse+prior_user+prior_item\n",
    "        return loss\n"
   ]
  },
  {
   "cell_type": "code",
   "execution_count": 9,
   "id": "9a192444",
   "metadata": {},
   "outputs": [],
   "source": [
    "users = df.userId.unique()\n",
    "movies = df.movieId.unique()\n",
    "n_user=len(users)\n",
    "n_item = len(movies)"
   ]
  },
  {
   "cell_type": "code",
   "execution_count": 10,
   "id": "44587804",
   "metadata": {},
   "outputs": [],
   "source": [
    "model = MF(n_user , n_item , k=10)"
   ]
  },
  {
   "cell_type": "code",
   "execution_count": 11,
   "id": "48916aaf",
   "metadata": {},
   "outputs": [],
   "source": [
    "n_epoch =10\n",
    "lr = 0.01\n",
    "loss_func = torch.nn.MSELoss()"
   ]
  },
  {
   "cell_type": "code",
   "execution_count": 12,
   "id": "ce19ef81",
   "metadata": {},
   "outputs": [],
   "source": [
    "optimizer = torch.optim.Adam(model.parameters(),lr)"
   ]
  },
  {
   "cell_type": "code",
   "execution_count": 20,
   "id": "fbb8da68",
   "metadata": {},
   "outputs": [],
   "source": [
    "def my_loss(output, target):\n",
    "    loss = torch.mean((output - target)**2)\n",
    "    return loss"
   ]
  },
  {
   "cell_type": "code",
   "execution_count": 21,
   "id": "418df377",
   "metadata": {},
   "outputs": [],
   "source": [
    "def checkAccuracy(loader , model ,epoch):\n",
    "    model.eval()\n",
    "    with torch.no_grad():\n",
    "        mse=[]\n",
    "        for valid_ in loader:\n",
    "            scores = model(valid_)\n",
    "            mse.append(loss_func(scores , valid_[:,2]))\n",
    "    model.train()\n",
    "    print(\"RMSE of sample is at epoch {} is\".format(epoch), sum(mse)/len(mse) )"
   ]
  },
  {
   "cell_type": "code",
   "execution_count": 23,
   "id": "e4350e2c",
   "metadata": {
    "scrolled": true
   },
   "outputs": [
    {
     "name": "stdout",
     "output_type": "stream",
     "text": [
      "tensor(3.0559, grad_fn=<MeanBackward0>)\n",
      "RMSE of sample is at epoch 0 is tensor(3.3633)\n",
      "tensor(1.2913, grad_fn=<MeanBackward0>)\n",
      "RMSE of sample is at epoch 1 is tensor(1.4451)\n",
      "tensor(1.0470, grad_fn=<MeanBackward0>)\n",
      "RMSE of sample is at epoch 2 is tensor(1.1359)\n",
      "tensor(0.9487, grad_fn=<MeanBackward0>)\n",
      "RMSE of sample is at epoch 3 is tensor(1.0252)\n",
      "tensor(0.8627, grad_fn=<MeanBackward0>)\n",
      "RMSE of sample is at epoch 4 is tensor(0.9709)\n",
      "tensor(0.8632, grad_fn=<MeanBackward0>)\n",
      "RMSE of sample is at epoch 5 is tensor(0.9411)\n",
      "tensor(0.7571, grad_fn=<MeanBackward0>)\n",
      "RMSE of sample is at epoch 6 is tensor(0.9215)\n",
      "tensor(0.7827, grad_fn=<MeanBackward0>)\n",
      "RMSE of sample is at epoch 7 is tensor(0.9073)\n",
      "tensor(0.8433, grad_fn=<MeanBackward0>)\n",
      "RMSE of sample is at epoch 8 is tensor(0.8954)\n",
      "tensor(0.7787, grad_fn=<MeanBackward0>)\n",
      "RMSE of sample is at epoch 9 is tensor(0.8848)\n"
     ]
    }
   ],
   "source": [
    "for epoch in range(n_epoch):\n",
    "    for batch_index , (train_) in enumerate(train_loader):\n",
    "        \n",
    "        scores = model(train_)\n",
    "        loss = my_loss(scores ,train_[:,2].type(torch.FloatTensor))\n",
    "        ##backward\n",
    "        optimizer.zero_grad()\n",
    "        loss.backward()\n",
    "        ##gradient\n",
    "        optimizer.step()\n",
    "    print(loss)\n",
    "    checkAccuracy(valid_loader,model,epoch)"
   ]
  }
 ],
 "metadata": {
  "kernelspec": {
   "display_name": "Python 3",
   "language": "python",
   "name": "python3"
  },
  "language_info": {
   "codemirror_mode": {
    "name": "ipython",
    "version": 3
   },
   "file_extension": ".py",
   "mimetype": "text/x-python",
   "name": "python",
   "nbconvert_exporter": "python",
   "pygments_lexer": "ipython3",
   "version": "3.8.8"
  }
 },
 "nbformat": 4,
 "nbformat_minor": 5
}
